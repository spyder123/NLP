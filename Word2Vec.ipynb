{
  "nbformat": 4,
  "nbformat_minor": 0,
  "metadata": {
    "colab": {
      "provenance": [],
      "gpuType": "T4"
    },
    "kernelspec": {
      "name": "python3",
      "display_name": "Python 3"
    },
    "language_info": {
      "name": "python"
    },
    "accelerator": "GPU"
  },
  "cells": [
    {
      "cell_type": "code",
      "execution_count": null,
      "metadata": {
        "id": "o9e2bO0QISNg"
      },
      "outputs": [],
      "source": [
        "## Importing Libraries!"
      ]
    },
    {
      "cell_type": "markdown",
      "source": [
        "## Importing Libraries!"
      ],
      "metadata": {
        "id": "TijylY95Iczd"
      }
    },
    {
      "cell_type": "code",
      "source": [
        "import numpy as np\n",
        "import torch\n",
        "import torch.nn as nn\n",
        "import torch.optim as optim\n",
        "import matplotlib.pyplot as plt"
      ],
      "metadata": {
        "id": "9wET5LphIcYO"
      },
      "execution_count": 1,
      "outputs": []
    },
    {
      "cell_type": "code",
      "source": [
        "from google.colab import drive\n",
        "drive.mount('/content/drive')"
      ],
      "metadata": {
        "colab": {
          "base_uri": "https://localhost:8080/"
        },
        "id": "jjiK2HQ1Iddz",
        "outputId": "f2915a95-a6b6-4826-b285-9a99c60833bd"
      },
      "execution_count": 2,
      "outputs": [
        {
          "output_type": "stream",
          "name": "stdout",
          "text": [
            "Mounted at /content/drive\n"
          ]
        }
      ]
    },
    {
      "cell_type": "markdown",
      "source": [
        "# Defining Simple Data for Understanding"
      ],
      "metadata": {
        "id": "QLxERAvfIvx0"
      }
    },
    {
      "cell_type": "code",
      "source": [
        "corpus = [\"basketball badminton cycling\", \"badminton cycling basketball\", \"cycling basketball badminton\",\n",
        "          \"pizza burger sandwich\", \"burger sandwich pizza\", \"sandwich pizza burger\"]"
      ],
      "metadata": {
        "id": "ms-fJqWsIu4D"
      },
      "execution_count": 3,
      "outputs": []
    },
    {
      "cell_type": "code",
      "source": [
        "corpus = [sent.split(\" \") for sent in corpus]\n",
        "corpus"
      ],
      "metadata": {
        "colab": {
          "base_uri": "https://localhost:8080/"
        },
        "id": "KW_Dca3CI2XN",
        "outputId": "51f686bd-8206-4d4d-b358-a3e63355fb76"
      },
      "execution_count": 4,
      "outputs": [
        {
          "output_type": "execute_result",
          "data": {
            "text/plain": [
              "[['basketball', 'badminton', 'cycling'],\n",
              " ['badminton', 'cycling', 'basketball'],\n",
              " ['cycling', 'basketball', 'badminton'],\n",
              " ['pizza', 'burger', 'sandwich'],\n",
              " ['burger', 'sandwich', 'pizza'],\n",
              " ['sandwich', 'pizza', 'burger']]"
            ]
          },
          "metadata": {},
          "execution_count": 4
        }
      ]
    },
    {
      "cell_type": "code",
      "source": [
        "#get word sequences and unique words\n",
        "flatten = lambda l: [item for sublist in l for item in sublist]\n",
        "vocab = list(set(flatten(corpus)))\n",
        "vocab"
      ],
      "metadata": {
        "colab": {
          "base_uri": "https://localhost:8080/"
        },
        "id": "3yrmzfMrI5lz",
        "outputId": "42c447e1-d27d-4263-dd83-2334cdd3842e"
      },
      "execution_count": 5,
      "outputs": [
        {
          "output_type": "execute_result",
          "data": {
            "text/plain": [
              "['cycling', 'basketball', 'burger', 'pizza', 'sandwich', 'badminton']"
            ]
          },
          "metadata": {},
          "execution_count": 5
        }
      ]
    },
    {
      "cell_type": "code",
      "source": [
        "#numericalization\n",
        "word2index = {w: i for i, w in enumerate(vocab)}\n",
        "print(word2index)"
      ],
      "metadata": {
        "colab": {
          "base_uri": "https://localhost:8080/"
        },
        "id": "ngUZAkLsI7rK",
        "outputId": "fd2ba1a7-e98c-4a9d-bc7c-c1dc193af507"
      },
      "execution_count": 6,
      "outputs": [
        {
          "output_type": "stream",
          "name": "stdout",
          "text": [
            "{'cycling': 0, 'basketball': 1, 'burger': 2, 'pizza': 3, 'sandwich': 4, 'badminton': 5}\n"
          ]
        }
      ]
    },
    {
      "cell_type": "code",
      "source": [
        "#vocab size\n",
        "voc_size = len(vocab)\n",
        "print(voc_size)"
      ],
      "metadata": {
        "colab": {
          "base_uri": "https://localhost:8080/"
        },
        "id": "rz63ytqkI9sb",
        "outputId": "c3b983f1-a858-48d1-fb7a-9ed503c06de3"
      },
      "execution_count": 7,
      "outputs": [
        {
          "output_type": "stream",
          "name": "stdout",
          "text": [
            "6\n"
          ]
        }
      ]
    },
    {
      "cell_type": "code",
      "source": [
        "#append UNK\n",
        "vocab.append('<UNK>')"
      ],
      "metadata": {
        "id": "yxKkZ0YVJDEY"
      },
      "execution_count": 8,
      "outputs": []
    },
    {
      "cell_type": "code",
      "source": [
        "vocab"
      ],
      "metadata": {
        "colab": {
          "base_uri": "https://localhost:8080/"
        },
        "id": "krlkzHW-JFvJ",
        "outputId": "9c4d8c92-7782-43ee-a234-2ebe3b5d4753"
      },
      "execution_count": 9,
      "outputs": [
        {
          "output_type": "execute_result",
          "data": {
            "text/plain": [
              "['cycling', 'basketball', 'burger', 'pizza', 'sandwich', 'badminton', '<UNK>']"
            ]
          },
          "metadata": {},
          "execution_count": 9
        }
      ]
    },
    {
      "cell_type": "code",
      "source": [
        "word2index['<UNK>'] = 6\n",
        "word2index"
      ],
      "metadata": {
        "colab": {
          "base_uri": "https://localhost:8080/"
        },
        "id": "PHUB3ry0JIEo",
        "outputId": "004220bb-2bfc-4558-8214-5e0615ee07b0"
      },
      "execution_count": 10,
      "outputs": [
        {
          "output_type": "execute_result",
          "data": {
            "text/plain": [
              "{'cycling': 0,\n",
              " 'basketball': 1,\n",
              " 'burger': 2,\n",
              " 'pizza': 3,\n",
              " 'sandwich': 4,\n",
              " 'badminton': 5,\n",
              " '<UNK>': 6}"
            ]
          },
          "metadata": {},
          "execution_count": 10
        }
      ]
    },
    {
      "cell_type": "code",
      "source": [
        "#just in case we need to use\n",
        "index2word = {v:k for k, v in word2index.items()}\n",
        "index2word"
      ],
      "metadata": {
        "colab": {
          "base_uri": "https://localhost:8080/"
        },
        "id": "ryAujMxXJKEN",
        "outputId": "3e576026-e51a-4223-f71e-8075fba72702"
      },
      "execution_count": 11,
      "outputs": [
        {
          "output_type": "execute_result",
          "data": {
            "text/plain": [
              "{0: 'cycling',\n",
              " 1: 'basketball',\n",
              " 2: 'burger',\n",
              " 3: 'pizza',\n",
              " 4: 'sandwich',\n",
              " 5: 'badminton',\n",
              " 6: '<UNK>'}"
            ]
          },
          "metadata": {},
          "execution_count": 11
        }
      ]
    },
    {
      "cell_type": "code",
      "source": [
        "#vocab size\n",
        "voc_size = len(vocab)\n",
        "print(voc_size)"
      ],
      "metadata": {
        "colab": {
          "base_uri": "https://localhost:8080/"
        },
        "id": "wjTNSYhGJNUV",
        "outputId": "49b574fd-fd5e-46ea-ba34-d66b0be3bc3a"
      },
      "execution_count": 12,
      "outputs": [
        {
          "output_type": "stream",
          "name": "stdout",
          "text": [
            "7\n"
          ]
        }
      ]
    },
    {
      "cell_type": "markdown",
      "source": [
        "# 1. Word2Vec\n",
        "Let's work on skipgram-based implementation of word2vec."
      ],
      "metadata": {
        "id": "49nEDMnQJZYq"
      }
    },
    {
      "cell_type": "markdown",
      "source": [
        "# 1.1 Prepare train data"
      ],
      "metadata": {
        "id": "2_VmHjICJgJc"
      }
    },
    {
      "cell_type": "code",
      "source": [
        "for c in corpus:\n",
        "    print(c)"
      ],
      "metadata": {
        "colab": {
          "base_uri": "https://localhost:8080/"
        },
        "id": "UNDz7xabJbo2",
        "outputId": "d522a44b-0802-4d91-8342-8a0b08606608"
      },
      "execution_count": 13,
      "outputs": [
        {
          "output_type": "stream",
          "name": "stdout",
          "text": [
            "['basketball', 'badminton', 'cycling']\n",
            "['badminton', 'cycling', 'basketball']\n",
            "['cycling', 'basketball', 'badminton']\n",
            "['pizza', 'burger', 'sandwich']\n",
            "['burger', 'sandwich', 'pizza']\n",
            "['sandwich', 'pizza', 'burger']\n"
          ]
        }
      ]
    },
    {
      "cell_type": "code",
      "source": [
        "#  Generating random batches of training data for skipgram\n",
        "\n",
        "def random_batch(batch_size, word_sequence):\n",
        "\n",
        "    # Make skipgram of one size window\n",
        "    skip_grams = []\n",
        "    # loop each word sequence\n",
        "    # we starts from 1 because 0 has no context\n",
        "    # we stop at second last for the same reason\n",
        "    for sent in corpus:\n",
        "        for i in range(1, len(sent) - 1):\n",
        "            target = word2index[sent[i]]\n",
        "            context = [word2index[sent[i - 1]], word2index[sent[i + 1]]]\n",
        "            for w in context:\n",
        "                skip_grams.append([target, w])\n",
        "\n",
        "    random_inputs = []\n",
        "    random_labels = []\n",
        "    random_index = np.random.choice(range(len(skip_grams)), batch_size, replace=False) #randomly pick without replacement\n",
        "\n",
        "    for i in random_index:\n",
        "        random_inputs.append([skip_grams[i][0]])  # target, e.g., 2\n",
        "        random_labels.append([skip_grams[i][1]])  # context word, e.g., 3\n",
        "\n",
        "    return np.array(random_inputs), np.array(random_labels)"
      ],
      "metadata": {
        "id": "pv5rVGeBJknt"
      },
      "execution_count": 14,
      "outputs": []
    },
    {
      "cell_type": "markdown",
      "source": [
        "# Testing the method"
      ],
      "metadata": {
        "id": "MNTrKbfLJs8w"
      }
    },
    {
      "cell_type": "code",
      "source": [
        "#testing the method\n",
        "batch_size = 2 # mini-batch size\n",
        "input_batch, target_batch = random_batch(batch_size, corpus)\n",
        "\n",
        "print(\"Target words: \", input_batch)\n",
        "print(\"Context words: \", target_batch)"
      ],
      "metadata": {
        "colab": {
          "base_uri": "https://localhost:8080/"
        },
        "id": "TCElcotAJp8h",
        "outputId": "5b770010-a292-4e39-fc3d-ff4a413a928f"
      },
      "execution_count": 15,
      "outputs": [
        {
          "output_type": "stream",
          "name": "stdout",
          "text": [
            "Target words:  [[2]\n",
            " [5]]\n",
            "Context words:  [[3]\n",
            " [1]]\n"
          ]
        }
      ]
    },
    {
      "cell_type": "markdown",
      "source": [
        "## 1.2 Model\n",
        "\n",
        "$$J(\\theta) = -\\frac{1}{T}\\sum_{t=1}^{T}\\sum_{\\substack{-m \\leq j \\leq m \\\\ j \\neq 0}}\\log P(w_{t+j} | w_t; \\theta)$$\n",
        "\n",
        "where $P(w_{t+j} | w_t; \\theta) = $\n",
        "\n",
        "$$P(o|c)=\\frac{\\exp(\\mathbf{u_o^{\\top}v_c})}{\\sum_{w=1}^V\\exp(\\mathbf{u_w^{\\top}v_c})}$$\n",
        "\n",
        "where $o$ is the outside words and $c$ is the center word"
      ],
      "metadata": {
        "id": "1R8O3DXRJxk3"
      }
    },
    {
      "cell_type": "code",
      "source": [
        "class Skipgram(nn.Module):\n",
        "\n",
        "    def __init__(self, vocab_size, emb_size):\n",
        "        super(Skipgram,self).__init__()\n",
        "        self.embedding_v = nn.Embedding(vocab_size, emb_size)\n",
        "        self.embedding_u = nn.Embedding(vocab_size, emb_size)\n",
        "\n",
        "    def forward(self, center_words, target_words, all_vocabs):\n",
        "        center_embeds = self.embedding_v(center_words) # [batch_size, 1, emb_size]\n",
        "        target_embeds = self.embedding_u(target_words) # [batch_size, 1, emb_size]\n",
        "        all_embeds    = self.embedding_u(all_vocabs) #   [batch_size, voc_size, emb_size]\n",
        "\n",
        "        scores      = target_embeds.bmm(center_embeds.transpose(1, 2)).squeeze(2)\n",
        "        #[batch_size, 1, emb_size] @ [batch_size, emb_size, 1] = [batch_size, 1, 1] = [batch_size, 1]\n",
        "\n",
        "        norm_scores = all_embeds.bmm(center_embeds.transpose(1, 2)).squeeze(2)\n",
        "        #[batch_size, voc_size, emb_size] @ [batch_size, emb_size, 1] = [batch_size, voc_size, 1] = [batch_size, voc_size]\n",
        "\n",
        "        nll = -torch.mean(torch.log(torch.exp(scores)/torch.sum(torch.exp(norm_scores), 1).unsqueeze(1))) # log-softmax\n",
        "        # scalar (loss must be scalar)\n",
        "\n",
        "        return nll # negative log likelihood"
      ],
      "metadata": {
        "id": "QtMtvzgiJwv7"
      },
      "execution_count": 16,
      "outputs": []
    },
    {
      "cell_type": "markdown",
      "source": [
        "# 1.3 Training"
      ],
      "metadata": {
        "id": "pJrKKfO1KJns"
      }
    },
    {
      "cell_type": "code",
      "source": [
        "batch_size     = 2 # mini-batch size\n",
        "embedding_size = 2 #so we can later plot\n",
        "model          = Skipgram(voc_size, embedding_size)\n",
        "\n",
        "optimizer = optim.Adam(model.parameters(), lr=0.001)"
      ],
      "metadata": {
        "id": "0LuL0coyKG9X"
      },
      "execution_count": 17,
      "outputs": []
    },
    {
      "cell_type": "code",
      "source": [
        "def prepare_sequence(seq, word2index):\n",
        "    idxs = list(map(lambda w: word2index[w] if word2index.get(w) is not None else word2index[\"<UNK>\"], seq))\n",
        "    return torch.LongTensor(idxs)\n",
        "\n",
        "#use for the normalized term in the probability calculation\n",
        "all_vocabs = prepare_sequence(list(vocab), word2index).expand(batch_size, len(vocab))  # [batch_size, voc_size]\n",
        "all_vocabs.shape"
      ],
      "metadata": {
        "colab": {
          "base_uri": "https://localhost:8080/"
        },
        "id": "0m9YBuTtKMkB",
        "outputId": "cfd7e5de-0810-4ee4-d6e6-669257e89788"
      },
      "execution_count": 18,
      "outputs": [
        {
          "output_type": "execute_result",
          "data": {
            "text/plain": [
              "torch.Size([2, 7])"
            ]
          },
          "metadata": {},
          "execution_count": 18
        }
      ]
    },
    {
      "cell_type": "code",
      "source": [
        "def epoch_time(start_time, end_time):\n",
        "    elapsed_time = end_time - start_time\n",
        "    elapsed_mins = int(elapsed_time / 60)\n",
        "    elapsed_secs = int(elapsed_time - (elapsed_mins * 60))\n",
        "    return elapsed_mins, elapsed_secs"
      ],
      "metadata": {
        "id": "DIgSiqzfKO3L"
      },
      "execution_count": 19,
      "outputs": []
    },
    {
      "cell_type": "code",
      "source": [
        "import time\n",
        "\n",
        "# Training\n",
        "num_epochs = 5000\n",
        "for epoch in range(num_epochs):\n",
        "\n",
        "    start = time.time()\n",
        "\n",
        "    input_batch, target_batch = random_batch(batch_size, corpus)\n",
        "    input_batch  = torch.LongTensor(input_batch)  #[batch_size, 1]\n",
        "    target_batch = torch.LongTensor(target_batch) #[batch_size, 1]\n",
        "\n",
        "    optimizer.zero_grad()\n",
        "    loss = model(input_batch, target_batch, all_vocabs)\n",
        "\n",
        "    loss.backward()\n",
        "    optimizer.step()\n",
        "\n",
        "    end = time.time()\n",
        "\n",
        "    epoch_mins, epoch_secs = epoch_time(start, end)\n",
        "\n",
        "    if (epoch + 1) % 1000 == 0:\n",
        "        print(f\"Epoch: {epoch + 1} | cost: {loss:.6f} | time: {epoch_mins}m {epoch_secs}s\")\n"
      ],
      "metadata": {
        "colab": {
          "base_uri": "https://localhost:8080/"
        },
        "id": "SLul_41pKRCU",
        "outputId": "79900a59-466f-4f64-8586-55f48e9a4b4e"
      },
      "execution_count": 20,
      "outputs": [
        {
          "output_type": "stream",
          "name": "stdout",
          "text": [
            "Epoch: 1000 | cost: 2.355154 | time: 0m 0s\n",
            "Epoch: 2000 | cost: 1.378537 | time: 0m 0s\n",
            "Epoch: 3000 | cost: 1.129374 | time: 0m 0s\n",
            "Epoch: 4000 | cost: 1.158069 | time: 0m 0s\n",
            "Epoch: 5000 | cost: 0.953985 | time: 0m 0s\n"
          ]
        }
      ]
    },
    {
      "cell_type": "markdown",
      "source": [
        "## 1.4 Plotting the embeddings\n"
      ],
      "metadata": {
        "id": "B62LHOoCKYqw"
      }
    },
    {
      "cell_type": "code",
      "source": [
        "#list of vocabs\n",
        "vocab[:10]"
      ],
      "metadata": {
        "colab": {
          "base_uri": "https://localhost:8080/"
        },
        "id": "4NaqNQ8UKUHo",
        "outputId": "c92e00c6-1f72-4a10-a935-4530189afea4"
      },
      "execution_count": 21,
      "outputs": [
        {
          "output_type": "execute_result",
          "data": {
            "text/plain": [
              "['cycling', 'basketball', 'burger', 'pizza', 'sandwich', 'badminton', '<UNK>']"
            ]
          },
          "metadata": {},
          "execution_count": 21
        }
      ]
    },
    {
      "cell_type": "code",
      "source": [
        "word = vocab[0]"
      ],
      "metadata": {
        "id": "ud0w68wlKbh7"
      },
      "execution_count": 22,
      "outputs": []
    },
    {
      "cell_type": "code",
      "source": [
        "#numericalization\n",
        "id = word2index[word]\n",
        "id"
      ],
      "metadata": {
        "colab": {
          "base_uri": "https://localhost:8080/"
        },
        "id": "eTPzznsPKeQh",
        "outputId": "4cac6ca3-195b-43c0-fcb8-d4c4369b1b1d"
      },
      "execution_count": 23,
      "outputs": [
        {
          "output_type": "execute_result",
          "data": {
            "text/plain": [
              "0"
            ]
          },
          "metadata": {},
          "execution_count": 23
        }
      ]
    },
    {
      "cell_type": "code",
      "source": [
        "id_tensor = torch.LongTensor([id])\n",
        "id_tensor"
      ],
      "metadata": {
        "colab": {
          "base_uri": "https://localhost:8080/"
        },
        "id": "wPciqMScKgs_",
        "outputId": "161c19d6-ebaa-4926-cc3f-bf0c830c62cd"
      },
      "execution_count": 24,
      "outputs": [
        {
          "output_type": "execute_result",
          "data": {
            "text/plain": [
              "tensor([0])"
            ]
          },
          "metadata": {},
          "execution_count": 24
        }
      ]
    },
    {
      "cell_type": "code",
      "source": [
        "#get the embedding by averaging\n",
        "v_embed = model.embedding_v(id_tensor)\n",
        "u_embed = model.embedding_u(id_tensor)\n",
        "\n",
        "v_embed, u_embed"
      ],
      "metadata": {
        "colab": {
          "base_uri": "https://localhost:8080/"
        },
        "id": "bSNP3lYpKjPC",
        "outputId": "f6b9f5ed-fe61-44f5-d256-6888b0e86271"
      },
      "execution_count": 25,
      "outputs": [
        {
          "output_type": "execute_result",
          "data": {
            "text/plain": [
              "(tensor([[1.1257, 1.3519]], grad_fn=<EmbeddingBackward0>),\n",
              " tensor([[-0.7870,  1.2013]], grad_fn=<EmbeddingBackward0>))"
            ]
          },
          "metadata": {},
          "execution_count": 25
        }
      ]
    },
    {
      "cell_type": "code",
      "source": [
        "#average to get the word embedding\n",
        "word_embed = (v_embed + u_embed) / 2\n",
        "word_embed[0][1]"
      ],
      "metadata": {
        "colab": {
          "base_uri": "https://localhost:8080/"
        },
        "id": "6IAA2hwOKldl",
        "outputId": "a2a43e09-dd2f-4d4d-9114-a30e652f00c6"
      },
      "execution_count": 26,
      "outputs": [
        {
          "output_type": "execute_result",
          "data": {
            "text/plain": [
              "tensor(1.2766, grad_fn=<SelectBackward0>)"
            ]
          },
          "metadata": {},
          "execution_count": 26
        }
      ]
    },
    {
      "cell_type": "code",
      "source": [
        "#let's write a function to get embedding given a word\n",
        "def get_embed(word):\n",
        "    id_tensor = torch.LongTensor([word2index[word]])\n",
        "    v_embed = model.embedding_v(id_tensor)\n",
        "    u_embed = model.embedding_u(id_tensor)\n",
        "    word_embed = (v_embed + u_embed) / 2\n",
        "    x, y = word_embed[0][0].item(), word_embed[0][1].item()\n",
        "\n",
        "    return x, y"
      ],
      "metadata": {
        "id": "xTNeM-seKng-"
      },
      "execution_count": 27,
      "outputs": []
    },
    {
      "cell_type": "code",
      "source": [
        "plt.figure(figsize=(6,3))\n",
        "for i, word in enumerate(vocab[:20]): #loop each unique vocab\n",
        "    x, y = get_embed(word)\n",
        "    plt.scatter(x, y)\n",
        "    plt.annotate(word, xy=(x, y), xytext=(5, 2), textcoords='offset points')\n",
        "plt.show()"
      ],
      "metadata": {
        "colab": {
          "base_uri": "https://localhost:8080/",
          "height": 295
        },
        "id": "cYWCEldoKqZY",
        "outputId": "b8f56439-cc3d-411c-8c88-b8d3ac204644"
      },
      "execution_count": 28,
      "outputs": [
        {
          "output_type": "display_data",
          "data": {
            "text/plain": [
              "<Figure size 600x300 with 1 Axes>"
            ],
            "image/png": "[encoded data removed]"
          },
          "metadata": {}
        }
      ]
    },
    {
      "cell_type": "markdown",
      "source": [
        "## 2. GloVE\n",
        "Let's work on implementation of GloVE."
      ],
      "metadata": {
        "id": "bIuedsqAKvmf"
      }
    },
    {
      "cell_type": "markdown",
      "source": [
        "## 2.1 Build Co-occurence Matrix X\n",
        "Here, we need to count the co-occurence of two words given some window size. We gonna use window size of 1."
      ],
      "metadata": {
        "id": "yeSSihQBK4ok"
      }
    },
    {
      "cell_type": "code",
      "source": [
        "from collections import Counter\n",
        "\n",
        "X_i = Counter(flatten(corpus)) # X_i\n",
        "X_i"
      ],
      "metadata": {
        "colab": {
          "base_uri": "https://localhost:8080/"
        },
        "id": "PSl5imKDK_77",
        "outputId": "693fa75a-4ca8-4775-93c1-643501ac2fdd"
      },
      "execution_count": 29,
      "outputs": [
        {
          "output_type": "execute_result",
          "data": {
            "text/plain": [
              "Counter({'basketball': 3,\n",
              "         'badminton': 3,\n",
              "         'cycling': 3,\n",
              "         'pizza': 3,\n",
              "         'burger': 3,\n",
              "         'sandwich': 3})"
            ]
          },
          "metadata": {},
          "execution_count": 29
        }
      ]
    },
    {
      "cell_type": "code",
      "source": [
        "# Make skip gram of one size window\n",
        "skip_grams = []\n",
        "# loop each word sequence\n",
        "# we starts from 1 because 0 has no context\n",
        "# we stop at second last for the same reason\n",
        "for sent in corpus:\n",
        "    for i in range(1, len(sent) - 1):\n",
        "        target = sent[i]\n",
        "        context = [sent[i - 1], sent[i + 1]]\n",
        "        for w in context:\n",
        "            skip_grams.append((target, w))\n",
        "\n",
        "skip_grams"
      ],
      "metadata": {
        "colab": {
          "base_uri": "https://localhost:8080/"
        },
        "id": "0DYLqgmiLCFc",
        "outputId": "e1696605-86a2-4786-b145-603003f39996"
      },
      "execution_count": 30,
      "outputs": [
        {
          "output_type": "execute_result",
          "data": {
            "text/plain": [
              "[('badminton', 'basketball'),\n",
              " ('badminton', 'cycling'),\n",
              " ('cycling', 'badminton'),\n",
              " ('cycling', 'basketball'),\n",
              " ('basketball', 'cycling'),\n",
              " ('basketball', 'badminton'),\n",
              " ('burger', 'pizza'),\n",
              " ('burger', 'sandwich'),\n",
              " ('sandwich', 'burger'),\n",
              " ('sandwich', 'pizza'),\n",
              " ('pizza', 'sandwich'),\n",
              " ('pizza', 'burger')]"
            ]
          },
          "metadata": {},
          "execution_count": 30
        }
      ]
    },
    {
      "cell_type": "code",
      "source": [
        "X_ik_skipgram = Counter(skip_grams) # Co-occurece in window size 1\n",
        "X_ik_skipgram"
      ],
      "metadata": {
        "colab": {
          "base_uri": "https://localhost:8080/"
        },
        "id": "mQ0u3ho5LE3Z",
        "outputId": "1e001163-1af6-4cc6-e16a-fb5ad27a48a2"
      },
      "execution_count": 31,
      "outputs": [
        {
          "output_type": "execute_result",
          "data": {
            "text/plain": [
              "Counter({('badminton', 'basketball'): 1,\n",
              "         ('badminton', 'cycling'): 1,\n",
              "         ('cycling', 'badminton'): 1,\n",
              "         ('cycling', 'basketball'): 1,\n",
              "         ('basketball', 'cycling'): 1,\n",
              "         ('basketball', 'badminton'): 1,\n",
              "         ('burger', 'pizza'): 1,\n",
              "         ('burger', 'sandwich'): 1,\n",
              "         ('sandwich', 'burger'): 1,\n",
              "         ('sandwich', 'pizza'): 1,\n",
              "         ('pizza', 'sandwich'): 1,\n",
              "         ('pizza', 'burger'): 1})"
            ]
          },
          "metadata": {},
          "execution_count": 31
        }
      ]
    },
    {
      "cell_type": "markdown",
      "source": [
        "\n",
        "## 2.2 Weighting function\n",
        "GloVe includes a weighting function to scale down too frequent words.?\n"
      ],
      "metadata": {
        "id": "5eK2MQxtLKsZ"
      }
    },
    {
      "cell_type": "code",
      "source": [
        "#simply a normalized function...don't worry too much\n",
        "def weighting(w_i, w_j, X_ik):\n",
        "\n",
        "    #check whether the co-occurrences exist between these two words\n",
        "    try:\n",
        "        x_ij = X_ik[(w_i, w_j)]\n",
        "    except:\n",
        "        x_ij = 1  #if does not exist, set it to 1\n",
        "\n",
        "    x_max = 100 #100 # fixed in paper  #cannot exceed 100 counts\n",
        "    alpha = 0.75\n",
        "\n",
        "    #if co-occurrence does not exceed 100, scale it based on some alpha\n",
        "    if x_ij < x_max:\n",
        "        result = (x_ij/x_max)**alpha  #scale it\n",
        "    else:\n",
        "        result = 1  #if is greater than max, set it to 1 maximum\n",
        "\n",
        "    return result"
      ],
      "metadata": {
        "id": "xAWa2KHwLHbi"
      },
      "execution_count": 32,
      "outputs": []
    },
    {
      "cell_type": "code",
      "source": [
        "from itertools import combinations_with_replacement\n",
        "\n",
        "X_ik = {}  #for keeping the co-occurences\n",
        "weighting_dic = {} #scaling the percentage of sampling\n",
        "\n",
        "for bigram in combinations_with_replacement(vocab, 2):\n",
        "    if X_ik_skipgram.get(bigram) is not None:  #matches\n",
        "        co_occer = X_ik_skipgram[bigram]  #get the count from what we already counted\n",
        "        X_ik[bigram] = co_occer + 1 # + 1 for stability issue\n",
        "        X_ik[(bigram[1],bigram[0])] = co_occer+1   #count also for the opposite\n",
        "    else:\n",
        "        pass\n",
        "\n",
        "    weighting_dic[bigram] = weighting(bigram[0], bigram[1], X_ik)\n",
        "    weighting_dic[(bigram[1], bigram[0])] = weighting(bigram[1], bigram[0], X_ik)\n",
        "\n",
        "print(f\"{X_ik=}\")\n",
        "print(f\"{weighting_dic=}\")"
      ],
      "metadata": {
        "colab": {
          "base_uri": "https://localhost:8080/"
        },
        "id": "YPrhRP0QLVD0",
        "outputId": "1822fa0a-35da-46f9-fcfe-3cf9b3af115f"
      },
      "execution_count": 33,
      "outputs": [
        {
          "output_type": "stream",
          "name": "stdout",
          "text": [
            "X_ik={('cycling', 'basketball'): 2, ('basketball', 'cycling'): 2, ('cycling', 'badminton'): 2, ('badminton', 'cycling'): 2, ('basketball', 'badminton'): 2, ('badminton', 'basketball'): 2, ('burger', 'pizza'): 2, ('pizza', 'burger'): 2, ('burger', 'sandwich'): 2, ('sandwich', 'burger'): 2, ('pizza', 'sandwich'): 2, ('sandwich', 'pizza'): 2}\n",
            "weighting_dic={('cycling', 'cycling'): 0.03162277660168379, ('cycling', 'basketball'): 0.053182958969449884, ('basketball', 'cycling'): 0.053182958969449884, ('cycling', 'burger'): 0.03162277660168379, ('burger', 'cycling'): 0.03162277660168379, ('cycling', 'pizza'): 0.03162277660168379, ('pizza', 'cycling'): 0.03162277660168379, ('cycling', 'sandwich'): 0.03162277660168379, ('sandwich', 'cycling'): 0.03162277660168379, ('cycling', 'badminton'): 0.053182958969449884, ('badminton', 'cycling'): 0.053182958969449884, ('cycling', '<UNK>'): 0.03162277660168379, ('<UNK>', 'cycling'): 0.03162277660168379, ('basketball', 'basketball'): 0.03162277660168379, ('basketball', 'burger'): 0.03162277660168379, ('burger', 'basketball'): 0.03162277660168379, ('basketball', 'pizza'): 0.03162277660168379, ('pizza', 'basketball'): 0.03162277660168379, ('basketball', 'sandwich'): 0.03162277660168379, ('sandwich', 'basketball'): 0.03162277660168379, ('basketball', 'badminton'): 0.053182958969449884, ('badminton', 'basketball'): 0.053182958969449884, ('basketball', '<UNK>'): 0.03162277660168379, ('<UNK>', 'basketball'): 0.03162277660168379, ('burger', 'burger'): 0.03162277660168379, ('burger', 'pizza'): 0.053182958969449884, ('pizza', 'burger'): 0.053182958969449884, ('burger', 'sandwich'): 0.053182958969449884, ('sandwich', 'burger'): 0.053182958969449884, ('burger', 'badminton'): 0.03162277660168379, ('badminton', 'burger'): 0.03162277660168379, ('burger', '<UNK>'): 0.03162277660168379, ('<UNK>', 'burger'): 0.03162277660168379, ('pizza', 'pizza'): 0.03162277660168379, ('pizza', 'sandwich'): 0.053182958969449884, ('sandwich', 'pizza'): 0.053182958969449884, ('pizza', 'badminton'): 0.03162277660168379, ('badminton', 'pizza'): 0.03162277660168379, ('pizza', '<UNK>'): 0.03162277660168379, ('<UNK>', 'pizza'): 0.03162277660168379, ('sandwich', 'sandwich'): 0.03162277660168379, ('sandwich', 'badminton'): 0.03162277660168379, ('badminton', 'sandwich'): 0.03162277660168379, ('sandwich', '<UNK>'): 0.03162277660168379, ('<UNK>', 'sandwich'): 0.03162277660168379, ('badminton', 'badminton'): 0.03162277660168379, ('badminton', '<UNK>'): 0.03162277660168379, ('<UNK>', 'badminton'): 0.03162277660168379, ('<UNK>', '<UNK>'): 0.03162277660168379}\n"
          ]
        }
      ]
    },
    {
      "cell_type": "markdown",
      "source": [
        "## 2.3 Prepare train data"
      ],
      "metadata": {
        "id": "wb7ONmn7LaQW"
      }
    },
    {
      "cell_type": "code",
      "source": [
        "for c in corpus:\n",
        "    print(c)"
      ],
      "metadata": {
        "colab": {
          "base_uri": "https://localhost:8080/"
        },
        "id": "aZ3YKKXMLXkf",
        "outputId": "e74cd160-61f4-458c-9a31-1146e64c1c0b"
      },
      "execution_count": 34,
      "outputs": [
        {
          "output_type": "stream",
          "name": "stdout",
          "text": [
            "['basketball', 'badminton', 'cycling']\n",
            "['badminton', 'cycling', 'basketball']\n",
            "['cycling', 'basketball', 'badminton']\n",
            "['pizza', 'burger', 'sandwich']\n",
            "['burger', 'sandwich', 'pizza']\n",
            "['sandwich', 'pizza', 'burger']\n"
          ]
        }
      ]
    },
    {
      "cell_type": "code",
      "source": [
        "import math\n",
        "\n",
        "def random_batch(batch_size, word_sequence, skip_grams, X_ik, weighting_dic):\n",
        "\n",
        "    #convert to id since our skip_grams is word, not yet id\n",
        "    skip_grams_id = [(word2index[skip_gram[0]], word2index[skip_gram[1]]) for skip_gram in skip_grams]\n",
        "\n",
        "    random_inputs = []\n",
        "    random_labels = []\n",
        "    random_coocs  = []\n",
        "    random_weightings = []\n",
        "    random_index = np.random.choice(range(len(skip_grams_id)), batch_size, replace=False) #randomly pick without replacement\n",
        "\n",
        "    for i in random_index:\n",
        "        random_inputs.append([skip_grams_id[i][0]])  # target, e.g., 2\n",
        "        random_labels.append([skip_grams_id[i][1]])  # context word, e.g., 3\n",
        "\n",
        "        #get cooc\n",
        "        pair = skip_grams[i]\n",
        "        try:\n",
        "            cooc = X_ik[pair]\n",
        "        except:\n",
        "            cooc = 1\n",
        "        random_coocs.append([math.log(cooc)])\n",
        "\n",
        "        #get weighting\n",
        "        weighting = weighting_dic[pair]\n",
        "        random_weightings.append([weighting])\n",
        "\n",
        "    return np.array(random_inputs), np.array(random_labels), np.array(random_coocs), np.array(random_weightings)"
      ],
      "metadata": {
        "id": "aZJ-_P31Ld_Z"
      },
      "execution_count": 35,
      "outputs": []
    },
    {
      "cell_type": "markdown",
      "source": [
        "## Testing the method"
      ],
      "metadata": {
        "id": "r6YUr2t1Ljy0"
      }
    },
    {
      "cell_type": "code",
      "source": [
        "#testing the method\n",
        "batch_size = 2 # mini-batch size\n",
        "input_batch, target_batch, cooc_batch, weighting_batch = random_batch(batch_size, corpus, skip_grams, X_ik, weighting_dic)\n",
        "\n",
        "print(\"Input: \", input_batch)\n",
        "print(\"Target: \", target_batch)\n",
        "print(\"Cooc: \", cooc_batch)\n",
        "print(\"Weighting: \", weighting_batch)\n",
        "\n",
        "#we will convert them to tensor during training, so don't worry..."
      ],
      "metadata": {
        "colab": {
          "base_uri": "https://localhost:8080/"
        },
        "id": "fJ_pQr8HLgxk",
        "outputId": "35422224-7b46-4f78-b887-96b6f31d5ee6"
      },
      "execution_count": 36,
      "outputs": [
        {
          "output_type": "stream",
          "name": "stdout",
          "text": [
            "Input:  [[0]\n",
            " [1]]\n",
            "Target:  [[1]\n",
            " [0]]\n",
            "Cooc:  [[0.69314718]\n",
            " [0.69314718]]\n",
            "Weighting:  [[0.05318296]\n",
            " [0.05318296]]\n"
          ]
        }
      ]
    },
    {
      "cell_type": "markdown",
      "source": [
        "## 2.4 Model\n",
        "\n",
        "$$J(\\theta) = \\sum_{V}^{i,j=1} f(X_{ij})(w^{T}_{i}\\tilde{w_{j}}+b_{i}+\\tilde{b_{j}}-\\log X_{ij})$$"
      ],
      "metadata": {
        "id": "dmjr6tR9Lrfk"
      }
    },
    {
      "cell_type": "code",
      "source": [
        "class GloVe(nn.Module):\n",
        "\n",
        "    def __init__(self, vocab_size,embed_size):\n",
        "        super(GloVe,self).__init__()\n",
        "        self.embedding_v = nn.Embedding(vocab_size, embed_size) # center embedding\n",
        "        self.embedding_u = nn.Embedding(vocab_size, embed_size) # out embedding\n",
        "\n",
        "        self.v_bias = nn.Embedding(vocab_size, 1)\n",
        "        self.u_bias = nn.Embedding(vocab_size, 1)\n",
        "\n",
        "    def forward(self, center_words, target_words, coocs, weighting):\n",
        "        center_embeds = self.embedding_v(center_words) # [batch_size, 1, emb_size]\n",
        "        target_embeds = self.embedding_u(target_words) # [batch_size, 1, emb_size]\n",
        "\n",
        "        center_bias = self.v_bias(center_words).squeeze(1)\n",
        "        target_bias = self.u_bias(target_words).squeeze(1)\n",
        "\n",
        "        inner_product = target_embeds.bmm(center_embeds.transpose(1, 2)).squeeze(2)\n",
        "        #[batch_size, 1, emb_size] @ [batch_size, emb_size, 1] = [batch_size, 1, 1] = [batch_size, 1]\n",
        "\n",
        "        #note that coocs already got log\n",
        "        loss = weighting*torch.pow(inner_product +center_bias + target_bias - coocs, 2)\n",
        "\n",
        "        return torch.sum(loss)"
      ],
      "metadata": {
        "id": "xbGuHyA8LnM1"
      },
      "execution_count": 37,
      "outputs": []
    },
    {
      "cell_type": "markdown",
      "source": [
        "## 2.5 Training"
      ],
      "metadata": {
        "id": "mYwOFsAaL2UV"
      }
    },
    {
      "cell_type": "code",
      "source": [
        "batch_size     = 10 # mini-batch size\n",
        "embedding_size = 2 #so we can later plot\n",
        "model          = GloVe(voc_size, embedding_size)\n",
        "\n",
        "criterion = nn.CrossEntropyLoss()\n",
        "optimizer = optim.Adam(model.parameters(), lr=0.001)"
      ],
      "metadata": {
        "id": "eDrUtu7YLz71"
      },
      "execution_count": 38,
      "outputs": []
    },
    {
      "cell_type": "code",
      "source": [
        "def epoch_time(start_time, end_time):\n",
        "    elapsed_time = end_time - start_time\n",
        "    elapsed_mins = int(elapsed_time / 60)\n",
        "    elapsed_secs = int(elapsed_time - (elapsed_mins * 60))\n",
        "    return elapsed_mins, elapsed_secs"
      ],
      "metadata": {
        "id": "QnBj7vJhL5eN"
      },
      "execution_count": 39,
      "outputs": []
    },
    {
      "cell_type": "code",
      "source": [
        "import time\n",
        "\n",
        "# Training\n",
        "num_epochs = 5000\n",
        "for epoch in range(num_epochs):\n",
        "\n",
        "    start = time.time()\n",
        "\n",
        "    input_batch, target_batch, cooc_batch, weighting_batch = random_batch(batch_size, corpus, skip_grams, X_ik, weighting_dic)\n",
        "    input_batch  = torch.LongTensor(input_batch)         #[batch_size, 1]\n",
        "    target_batch = torch.LongTensor(target_batch)        #[batch_size, 1]\n",
        "    cooc_batch   = torch.FloatTensor(cooc_batch)         #[batch_size, 1]\n",
        "    weighting_batch = torch.FloatTensor(weighting_batch) #[batch_size, 1]\n",
        "\n",
        "    optimizer.zero_grad()\n",
        "    loss = model(input_batch, target_batch, cooc_batch, weighting_batch)\n",
        "\n",
        "    loss.backward()\n",
        "    optimizer.step()\n",
        "\n",
        "    end = time.time()\n",
        "\n",
        "    epoch_mins, epoch_secs = epoch_time(start, end)\n",
        "\n",
        "    if (epoch + 1) % 1000 == 0:\n",
        "        print(f\"Epoch: {epoch + 1} | cost: {loss:.6f} | time: {epoch_mins}m {epoch_secs}s\")"
      ],
      "metadata": {
        "colab": {
          "base_uri": "https://localhost:8080/"
        },
        "id": "NdLegopHL7d5",
        "outputId": "18f49ba3-82ed-4bd3-9184-71c6b4d9cc79"
      },
      "execution_count": 40,
      "outputs": [
        {
          "output_type": "stream",
          "name": "stdout",
          "text": [
            "Epoch: 1000 | cost: 0.017419 | time: 0m 0s\n",
            "Epoch: 2000 | cost: 0.000104 | time: 0m 0s\n",
            "Epoch: 3000 | cost: 0.000000 | time: 0m 0s\n",
            "Epoch: 4000 | cost: 0.000000 | time: 0m 0s\n",
            "Epoch: 5000 | cost: 0.000000 | time: 0m 0s\n"
          ]
        }
      ]
    },
    {
      "cell_type": "markdown",
      "source": [
        "## 2.6 Plotting the embeddings"
      ],
      "metadata": {
        "id": "CK-TTj1tMC0E"
      }
    },
    {
      "cell_type": "code",
      "source": [
        "#list of vocabs\n",
        "vocab[:10]"
      ],
      "metadata": {
        "colab": {
          "base_uri": "https://localhost:8080/"
        },
        "id": "mSkuGAPwL-ST",
        "outputId": "b8af8305-31f5-43ff-967c-01221d07c1a9"
      },
      "execution_count": 41,
      "outputs": [
        {
          "output_type": "execute_result",
          "data": {
            "text/plain": [
              "['cycling', 'basketball', 'burger', 'pizza', 'sandwich', 'badminton', '<UNK>']"
            ]
          },
          "metadata": {},
          "execution_count": 41
        }
      ]
    },
    {
      "cell_type": "code",
      "source": [
        "word = vocab[0]"
      ],
      "metadata": {
        "id": "wwcA26lwMGmG"
      },
      "execution_count": 42,
      "outputs": []
    },
    {
      "cell_type": "code",
      "source": [
        "#numericalization\n",
        "id = word2index[word]\n",
        "id"
      ],
      "metadata": {
        "colab": {
          "base_uri": "https://localhost:8080/"
        },
        "id": "kaP3kLILMIwu",
        "outputId": "18b50604-ddb0-4245-db69-2eddf4a06846"
      },
      "execution_count": 43,
      "outputs": [
        {
          "output_type": "execute_result",
          "data": {
            "text/plain": [
              "0"
            ]
          },
          "metadata": {},
          "execution_count": 43
        }
      ]
    },
    {
      "cell_type": "code",
      "source": [
        "id_tensor = torch.LongTensor([id])\n",
        "id_tensor"
      ],
      "metadata": {
        "colab": {
          "base_uri": "https://localhost:8080/"
        },
        "id": "5z03AyuWML8h",
        "outputId": "bc633d1b-0411-42b0-e380-c6301f3cfcee"
      },
      "execution_count": 44,
      "outputs": [
        {
          "output_type": "execute_result",
          "data": {
            "text/plain": [
              "tensor([0])"
            ]
          },
          "metadata": {},
          "execution_count": 44
        }
      ]
    },
    {
      "cell_type": "code",
      "source": [
        "#get the embedding by averaging\n",
        "v_embed = model.embedding_v(id_tensor)\n",
        "u_embed = model.embedding_u(id_tensor)\n",
        "\n",
        "v_embed, u_embed"
      ],
      "metadata": {
        "colab": {
          "base_uri": "https://localhost:8080/"
        },
        "id": "ct2fqjNiMOMa",
        "outputId": "91f323f6-f2ea-4c7d-e78e-ac79170532bc"
      },
      "execution_count": 45,
      "outputs": [
        {
          "output_type": "execute_result",
          "data": {
            "text/plain": [
              "(tensor([[ 0.4221, -0.3416]], grad_fn=<EmbeddingBackward0>),\n",
              " tensor([[ 2.4371, -0.0896]], grad_fn=<EmbeddingBackward0>))"
            ]
          },
          "metadata": {},
          "execution_count": 45
        }
      ]
    },
    {
      "cell_type": "code",
      "source": [
        "#average to get the word embedding\n",
        "word_embed = (v_embed + u_embed) / 2\n",
        "word_embed[0][1]"
      ],
      "metadata": {
        "colab": {
          "base_uri": "https://localhost:8080/"
        },
        "id": "fQXgbh0dMQn7",
        "outputId": "00785a03-b21c-4d3d-add0-855bdee2705a"
      },
      "execution_count": 46,
      "outputs": [
        {
          "output_type": "execute_result",
          "data": {
            "text/plain": [
              "tensor(-0.2156, grad_fn=<SelectBackward0>)"
            ]
          },
          "metadata": {},
          "execution_count": 46
        }
      ]
    },
    {
      "cell_type": "code",
      "source": [
        "#let's write a function to get embedding given a word\n",
        "def get_embed(word):\n",
        "    id_tensor = torch.LongTensor([word2index[word]])\n",
        "    v_embed = model.embedding_v(id_tensor)\n",
        "    u_embed = model.embedding_u(id_tensor)\n",
        "    word_embed = (v_embed + u_embed) / 2\n",
        "    x, y = word_embed[0][0].item(), word_embed[0][1].item()\n",
        "\n",
        "    return x, y"
      ],
      "metadata": {
        "id": "lQZaT8s2MT4Q"
      },
      "execution_count": 47,
      "outputs": []
    },
    {
      "cell_type": "code",
      "source": [
        "plt.figure(figsize=(6,3))\n",
        "for i, word in enumerate(vocab[:20]): #loop each unique vocab\n",
        "    x, y = get_embed(word)\n",
        "    plt.scatter(x, y)\n",
        "    plt.annotate(word, xy=(x, y), xytext=(5, 2), textcoords='offset points')\n",
        "plt.show()"
      ],
      "metadata": {
        "colab": {
          "base_uri": "https://localhost:8080/",
          "height": 295
        },
        "id": "I4LB1T5wMWKU",
        "outputId": "f0536272-6019-47d9-85ab-649771a996d5"
      },
      "execution_count": 48,
      "outputs": [
        {
          "output_type": "display_data",
          "data": {
            "text/plain": [
              "<Figure size 600x300 with 1 Axes>"
            ],
            "image/png": "[encoded data removed]"
          },
          "metadata": {}
        }
      ]
    },
    {
      "cell_type": "markdown",
      "source": [
        "## ## Cosine similarity\n",
        "\n",
        "Formally the [Cosine Similarity](https://en.wikipedia.org/wiki/Cosine_similarity) $s$ between two vectors $p$ and $q$ is defined as:\n",
        "\n",
        "$$s = \\frac{p \\cdot q}{||p|| ||q||}, \\textrm{ where } s \\in [-1, 1] $$\n",
        "\n",
        "If $p$ and $q$ is super similar, the result is 1 otherwise 0."
      ],
      "metadata": {
        "id": "bi-EF_94MbWi"
      }
    },
    {
      "cell_type": "code",
      "source": [
        "\n",
        "vocab"
      ],
      "metadata": {
        "colab": {
          "base_uri": "https://localhost:8080/"
        },
        "id": "wcARbnEUMYPx",
        "outputId": "879bb0f7-44c5-4b8c-ae5c-48cfcf8cb92c"
      },
      "execution_count": 49,
      "outputs": [
        {
          "output_type": "execute_result",
          "data": {
            "text/plain": [
              "['cycling', 'basketball', 'burger', 'pizza', 'sandwich', 'badminton', '<UNK>']"
            ]
          },
          "metadata": {},
          "execution_count": 49
        }
      ]
    },
    {
      "cell_type": "code",
      "source": [
        "#let's try similarity between first and second, and second and third\n",
        "basketball   = get_embed('basketball')\n",
        "burger       = get_embed('burger')\n",
        "cycling      = get_embed('cycling')"
      ],
      "metadata": {
        "id": "pb-NmZy9Mg8r"
      },
      "execution_count": 50,
      "outputs": []
    },
    {
      "cell_type": "code",
      "source": [
        "#numpy version\n",
        "from numpy import dot\n",
        "from numpy.linalg import norm\n",
        "\n",
        "def cos_sim(a, b):\n",
        "    cos_sim = dot(a, b)/(norm(a)*norm(b))\n",
        "    return cos_sim\n",
        "\n",
        "print(f\"basketball vs. burger: \",      cos_sim(basketball, burger))\n",
        "print(f\"basketball vs. cycling: \",     cos_sim(basketball, cycling))\n",
        "print(f\"basketball vs. basketball: \",  cos_sim(basketball, basketball))"
      ],
      "metadata": {
        "colab": {
          "base_uri": "https://localhost:8080/"
        },
        "id": "4-QwScTfMizB",
        "outputId": "fb310c99-49bf-4c32-a15e-ecf410528ed8"
      },
      "execution_count": 51,
      "outputs": [
        {
          "output_type": "stream",
          "name": "stdout",
          "text": [
            "basketball vs. burger:  -0.3257613530850554\n",
            "basketball vs. cycling:  0.967324621933262\n",
            "basketball vs. basketball:  1.0000000000000002\n"
          ]
        }
      ]
    },
    {
      "cell_type": "code",
      "source": [
        "#scipy version\n",
        "from scipy import spatial\n",
        "\n",
        "def cos_sim(a, b):\n",
        "    cos_sim = 1 - spatial.distance.cosine(a, b)  #distance = 1 - similarlity, because scipy only gives distance\n",
        "    return cos_sim\n",
        "\n",
        "print(f\"basketball vs. burger: \",      cos_sim(basketball, burger))\n",
        "print(f\"basketball vs. cycling: \",     cos_sim(basketball, cycling))\n",
        "print(f\"basketball vs. basketball: \",  cos_sim(basketball, basketball))"
      ],
      "metadata": {
        "colab": {
          "base_uri": "https://localhost:8080/"
        },
        "id": "AintBnKPMmq9",
        "outputId": "73abd80f-cee6-4b51-dc64-a7a0af3cec28"
      },
      "execution_count": 52,
      "outputs": [
        {
          "output_type": "stream",
          "name": "stdout",
          "text": [
            "basketball vs. burger:  -0.3257613530850554\n",
            "basketball vs. cycling:  0.967324621933262\n",
            "basketball vs. basketball:  1\n"
          ]
        }
      ]
    },
    {
      "cell_type": "code",
      "source": [],
      "metadata": {
        "id": "zOkHiMRVOrHJ"
      },
      "execution_count": null,
      "outputs": []
    }
  ]
}